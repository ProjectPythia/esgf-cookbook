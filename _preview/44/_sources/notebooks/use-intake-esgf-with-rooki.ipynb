{
 "cells": [
  {
   "cell_type": "markdown",
   "id": "5191269c-944c-4516-9f51-6cdfc704852a",
   "metadata": {},
   "source": [
    "<img src=\"images/intake-rooki-demo.png\" width=500 alt=\"Intake Rooki Demo\"></img>"
   ]
  },
  {
   "cell_type": "markdown",
   "id": "fa96801d-4d1a-4264-94f9-9bf12a77421a",
   "metadata": {},
   "source": [
    "---"
   ]
  },
  {
   "cell_type": "markdown",
   "id": "545103ee-abac-4da8-af3b-c8877a3d2d6c",
   "metadata": {},
   "source": [
    "# Using intake-esgf with rooki\n",
    "\n",
    "## Overview\n",
    "\n",
    "In this notebook we will demonstrate how to use intake-esgf and rooki to perform server-side operations and return the result to the user. This will occur in several steps.\n",
    "\n",
    "1. We use intake-esgf to find data which is local to the ORNL server and then form an id which rooki uses to load the data remotely.\n",
    "2. We build a rooki workflow which uses these ids (`rooki_id`) to subset and average the data remotely.\n",
    "3. The results are downloaded locally and we visualize them interactively using hvplot.\n"
   ]
  },
  {
   "cell_type": "markdown",
   "id": "0b633dab-4c9d-482a-b148-8f9b09102e78",
   "metadata": {},
   "source": [
    "## Prerequisites\n",
    "\n",
    "| Concepts | Importance | Notes |\n",
    "| --- | --- | --- |\n",
    "| [Intro to Intake-ESGF](intro-search) | Necessary | How to configure a search and use output |\n",
    "| [Intro to Rooki](rooki) | Helpful | How to initialize and run rooki |\n",
    "| [Intro to hvPlot](https://hvplot.holoviz.org/user_guide/Geographic_Data.html) | Necessary | How to plot interactive visualizations |\n",
    "\n",
    "- **Time to learn**: 30 minutes"
   ]
  },
  {
   "cell_type": "markdown",
   "id": "64a5b6f9-eeee-4726-abdc-686e96dfc3cf",
   "metadata": {},
   "source": [
    "---"
   ]
  },
  {
   "cell_type": "markdown",
   "id": "f7571ba4-43cf-4f61-b74a-a51cdee373aa",
   "metadata": {},
   "source": [
    "## Imports"
   ]
  },
  {
   "cell_type": "markdown",
   "id": "b3de6244-5afc-4cb4-aabe-7508423944ae",
   "metadata": {},
   "source": [
    "Before importing rooki, we need to set an environment variable that will signal the rooki client to use the web processing service (WPS) deployment located at Oak Ridge National Lab (ORNL)."
   ]
  },
  {
   "cell_type": "code",
   "execution_count": null,
   "id": "c12d0875-9794-4101-b74f-346148cb36c0",
   "metadata": {
    "tags": []
   },
   "outputs": [],
   "source": [
    "import os\n",
    "\n",
    "# Configuration line to set the wps node - in this case, use ORNL in the USA\n",
    "url = \"https://esgf-node.ornl.gov/wps\"\n",
    "os.environ[\"ROOK_URL\"] = url\n",
    "\n",
    "from rooki import operators as ops\n",
    "from rooki import rooki"
   ]
  },
  {
   "cell_type": "code",
   "execution_count": null,
   "id": "d19a5944-12d7-401c-a9cb-8e92f1f95f96",
   "metadata": {},
   "outputs": [],
   "source": [
    "# Other imports\n",
    "import holoviews as hv\n",
    "import hvplot.xarray\n",
    "import intake_esgf\n",
    "import matplotlib.pyplot as plt\n",
    "import panel as pn\n",
    "import xarray as xr\n",
    "from intake_esgf import ESGFCatalog\n",
    "\n",
    "hv.extension(\"bokeh\")"
   ]
  },
  {
   "cell_type": "markdown",
   "id": "7dd9b81a-9aeb-4769-8c67-4db88a089859",
   "metadata": {},
   "source": [
    "## Search and Find Data for Surface Temperature on the ORNL Node\n",
    "\n",
    "Let's start with refining which index we would like to search from. For this analysis, we are remotely computing on the ORNL node since this is where rooki is running. We know this from checking the `._url` method of rooki!"
   ]
  },
  {
   "cell_type": "code",
   "execution_count": null,
   "id": "d3cdea76-9a74-4001-91b4-6c1b664835b2",
   "metadata": {
    "tags": []
   },
   "outputs": [],
   "source": [
    "rooki._url"
   ]
  },
  {
   "cell_type": "markdown",
   "id": "4a4442f9-6c41-4a56-ac66-4299d0c4ddda",
   "metadata": {},
   "source": [
    "### Set the Index Node and Search\n",
    "\n",
    "Because we are using the ORNL-based WPS, we only need information about ORNL holdings. So here we configure intake-esgf to only look at the ORNL index for data information."
   ]
  },
  {
   "cell_type": "code",
   "execution_count": null,
   "id": "8d78dd66-16d0-4573-b94d-b7c52200cee8",
   "metadata": {},
   "outputs": [],
   "source": [
    "intake_esgf.conf.set(indices={\"anl-dev\": False,\n",
    "                              \"ornl-dev\": True})"
   ]
  },
  {
   "cell_type": "markdown",
   "id": "37d7a372-8db7-4a02-9d3f-6d8fc54e7e88",
   "metadata": {},
   "source": [
    "Now we instantiate the catalog and perform a search for surface air temperature (tas) data from a few institution's models. Note that we have also included specificity of the data node. The ORNL index contains information about holdings beyond the ORNL data node and so we give this to force the catalog to only return information about holdings which are local to ORNL."
   ]
  },
  {
   "cell_type": "code",
   "execution_count": null,
   "id": "d0f5ede4-feb0-4896-9e65-e100cbfadee4",
   "metadata": {
    "tags": []
   },
   "outputs": [],
   "source": [
    "cat = ESGFCatalog().search(\n",
    "    experiment_id=\"historical\",\n",
    "    variable_id=\"tas\",\n",
    "    member_id=\"r1i1p1f1\",\n",
    "    table_id=\"Amon\",\n",
    "    institution_id=[\"MIROC\", \"NCAR\", \"NASA-GISS\", \"CMCC\"],\n",
    ")\n",
    "cat.df"
   ]
  },
  {
   "cell_type": "markdown",
   "id": "b00d07ff-58a7-4141-922c-9f7a97772f1e",
   "metadata": {
    "tags": []
   },
   "source": [
    "## Extract IDs to Pass to Rooki\n",
    "\n",
    "The catalog returns a lot of information about the datasets that were found, but the rooki WPS interface just needs an ID that looks similar to what we find in the `id` column of the dataframe. We need to remove the `|esgf-node.ornl.gov` on the end and prepend a `ccs03_data`. To do this we will write a function and apply it to the dataframe.\n"
   ]
  },
  {
   "cell_type": "code",
   "execution_count": null,
   "id": "d77e9325-3594-4454-a330-e6d3b139c32b",
   "metadata": {},
   "outputs": [],
   "source": [
    "def build_rooki_id(id_list):\n",
    "    rooki_id = id_list[0]\n",
    "    rooki_id = rooki_id.split(\"|\")[0]\n",
    "    rooki_id = f\"css03_data.{rooki_id}\"  # <-- just something you have to know for now :(\n",
    "    return rooki_id\n",
    "\n",
    "rooki_ids = cat.df.id.apply(build_rooki_id).to_list()\n",
    "rooki_ids"
   ]
  },
  {
   "cell_type": "markdown",
   "id": "4a470bea-581c-4796-a716-a02fd02e1531",
   "metadata": {},
   "source": [
    "### Compute with Rooki\n",
    "Now that we have a list of IDs to pass to rooki, let's compute! In our case we are interested in the annual temperature from 1990-2000 over an area that includes India (latitude from 0 to 35, longitude from 65 to 100). The following function will construct a rooki workflow that uses operators (functions in the `ops` namespace) that rooki uses to:\n",
    "\n",
    "- read in data (`ops.Input`)\n",
    "- subset in time and space (`ops.Subset`), and\n",
    "- average in time (`ops.AverageByTime`) on a yearly frequency.\n",
    "\n",
    "We then check to make sure the response is okay, and if it is, return the processed dataset to the user! If something went wrong, the function will raise an error and show you the message that rooki sent back."
   ]
  },
  {
   "cell_type": "code",
   "execution_count": null,
   "id": "38704069-b1ad-474f-99f6-3273554df831",
   "metadata": {
    "tags": []
   },
   "outputs": [],
   "source": [
    "def india_annual_temperature(rooki_id):\n",
    "    workflow = ops.AverageByTime(\n",
    "        ops.Subset(\n",
    "            ops.Input(\"tas\", [rooki_id]),\n",
    "            time=\"1990-01-01/2000-01-01\",\n",
    "            area=\"65,0,100,35\",\n",
    "        ),\n",
    "        freq=\"year\",\n",
    "    )\n",
    "    response = workflow.orchestrate()\n",
    "    if not response.ok:\n",
    "        raise ValueError(response)\n",
    "    return response.datasets()[0]"
   ]
  },
  {
   "cell_type": "markdown",
   "id": "cf88a09b-8178-4798-afc6-744242e65ca6",
   "metadata": {},
   "source": [
    "Now let's test a single rooki_id to demonstrate successful functionality. The rooki_id let's the WPS know on which dataset we are intersted in operating and then the data is loaded remotely, subset, and then averaged. After this computation is finished on the server, the result is transferred to you and loaded into a xarray dataset. Inspect the dataset header to see that there are 10 times, one for each year and the latitude and longitude range spans our input values."
   ]
  },
  {
   "cell_type": "code",
   "execution_count": null,
   "id": "94609894-705d-4fdc-a235-b2f1f5747305",
   "metadata": {
    "tags": []
   },
   "outputs": [],
   "source": [
    "india_annual_temperature(rooki_ids[0])"
   ]
  },
  {
   "cell_type": "markdown",
   "id": "4ecacf51-e35f-4810-8250-3e90a1b5888a",
   "metadata": {},
   "source": [
    "Now that we have some confidence in our workflow function, we can iterate over rooki_id's running for each and saving into a dictionary whose keys are the different models. You should see messages print to the screen which inform you where the temporary output is being downloaded. This location can be configured in rooki, but for now we will just load them into datasets."
   ]
  },
  {
   "cell_type": "code",
   "execution_count": null,
   "id": "a52e7d71-18fd-4bbe-91a7-fa86725ad4de",
   "metadata": {
    "tags": []
   },
   "outputs": [],
   "source": [
    "dsd = {\n",
    "    rooki_id.split(\".\")[4]: india_annual_temperature(rooki_id)\n",
    "    for rooki_id in rooki_ids\n",
    "}"
   ]
  },
  {
   "cell_type": "markdown",
   "id": "4a77cda9-536f-4fc2-8e89-9ce2e4937810",
   "metadata": {},
   "source": [
    "## Visualize the Output\n",
    "Let's use hvPlot to visualize. The datasets are stored in a dictionary of datasets, we need to:\n",
    "- Extract a single key\n",
    "- Plot a contour filled visualization, with some geographic features"
   ]
  },
  {
   "cell_type": "code",
   "execution_count": null,
   "id": "1b08b0a0-7add-4a50-8e62-9bb88b98cc7c",
   "metadata": {
    "tags": []
   },
   "outputs": [],
   "source": [
    "tas = dsd[\"MIROC6\"].tas\n",
    "tas.hvplot.contourf(\n",
    "    x=\"lon\",\n",
    "    y=\"lat\",\n",
    "    cmap=\"Reds\",\n",
    "    levels=20,\n",
    "    clim=(250, 320),\n",
    "    features=[\"land\", \"ocean\"],\n",
    "    alpha=0.7,\n",
    "    widget_location=\"bottom\",\n",
    "    clabel=\"Yearly Average Temperature (K)\",\n",
    "    geo=True,\n",
    ")"
   ]
  },
  {
   "cell_type": "markdown",
   "id": "33c9fce3-722a-4cc9-8b4c-5d2038cc981f",
   "metadata": {},
   "source": [
    "---"
   ]
  },
  {
   "cell_type": "markdown",
   "id": "86e3979e-505a-455c-8753-6cd5c7f0b219",
   "metadata": {},
   "source": [
    "## Summary\n",
    "Within this notebook, we learned how to specify a specific index node to search from, pass discovered datasets to rooki, and chain remote-compute with several operations using rooki. We then visualized the output using hvPlot, leading to an interactive plot!\n",
    "\n",
    "### What's next?\n",
    "More adaptations of the intake-esgf + rooki to remotely compute on ESGF data."
   ]
  },
  {
   "cell_type": "markdown",
   "id": "bbda4631-017e-4295-b2a5-e97fe5197cf8",
   "metadata": {},
   "source": [
    "## Resources and references\n",
    " - [intake-esgf documentation](https://intake-esgf.readthedocs.io/en/latest/)\n",
    " - [rooki documentation](https://rooki.readthedocs.io/en/latest/)\n",
    " - [Working with geographic data with hvPlot](https://hvplot.holoviz.org/user_guide/Geographic_Data.html)\n"
   ]
  }
 ],
 "metadata": {
  "kernelspec": {
   "display_name": "Python 3 (ipykernel)",
   "language": "python",
   "name": "python3"
  },
  "language_info": {
   "codemirror_mode": {
    "name": "ipython",
    "version": 3
   },
   "file_extension": ".py",
   "mimetype": "text/x-python",
   "name": "python",
   "nbconvert_exporter": "python",
   "pygments_lexer": "ipython3",
   "version": "3.10.16"
  }
 },
 "nbformat": 4,
 "nbformat_minor": 5
}
