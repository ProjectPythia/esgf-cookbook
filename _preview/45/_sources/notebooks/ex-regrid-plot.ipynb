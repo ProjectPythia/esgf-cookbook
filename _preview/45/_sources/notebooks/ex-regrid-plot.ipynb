{
 "cells": [
  {
   "cell_type": "markdown",
   "id": "7ec06613-53cd-494c-ade6-8a3a156f77a0",
   "metadata": {
    "tags": []
   },
   "source": [
    "<img src=\"images/esgf.png\" width=250 alt=\"ESGF logo\"></img>\n",
    "<img src=\"images/logos/rooki_logo.png\" width=125 alt=\"Rooki logo\"></img>\n",
    "<img src=\"images/logos/cartopy_logo.png\" width=250 alt=\"Cartopy logo\"></img>"
   ]
  },
  {
   "cell_type": "markdown",
   "id": "50b5d7e7-df4e-4992-a29b-8804b081a320",
   "metadata": {
    "tags": []
   },
   "source": [
    "# Demo: Regridding and Plotting with Rooki and Cartopy \n"
   ]
  },
  {
   "cell_type": "markdown",
   "id": "abd4b497-cdbf-4c29-857c-3017abf9e927",
   "metadata": {
    "tags": []
   },
   "source": [
    "---"
   ]
  },
  {
   "cell_type": "markdown",
   "id": "0f79862d-7181-4f04-966c-19b5e03a22a5",
   "metadata": {},
   "source": [
    "## Overview\n",
    "In this notebook, we demonstrate how to use Rooki to regrid CMIP model data and plot it in Cartopy for two examples:\n",
    "\n",
    "1. Regrid two CMIP models onto the same grid \n",
    "1. Coarsen the output for one model"
   ]
  },
  {
   "cell_type": "markdown",
   "id": "4f1db315-fb2d-466d-bd6e-8a4ef18b6cf1",
   "metadata": {
    "tags": []
   },
   "source": [
    "## Prerequisites\n",
    "\n",
    "| Concepts | Importance | Notes |\n",
    "| --- | --- | --- |\n",
    "| [Intro to intake-esgf](https://projectpythia.org/esgf-cookbook/notebooks/intro-search.html) | Necessary | |\n",
    "| [Intro to Cartopy](https://foundations.projectpythia.org/core/cartopy/cartopy.html) | Necessary |  |\n",
    "| [Using Rooki to access CMIP6 data](https://projectpythia.org/esgf-cookbook/notebooks/rooki.html) | Helpful | Familiarity with rooki |\n",
    "| [Understanding of NetCDF](https://foundations.projectpythia.org/core/data-formats/netcdf-cf.html) | Helpful | Familiarity with metadata structure |\n",
    "\n",
    "- **Time to learn**: 15 minutes\n",
    "\n"
   ]
  },
  {
   "cell_type": "markdown",
   "id": "7cbc5d91-db3f-4afd-9093-c3abc7dec82b",
   "metadata": {},
   "source": [
    "---"
   ]
  },
  {
   "cell_type": "markdown",
   "id": "2582d535-9b99-4115-b0ee-7459acd76ec0",
   "metadata": {},
   "source": [
    "## Imports\n"
   ]
  },
  {
   "cell_type": "code",
   "execution_count": null,
   "id": "ad4562c9-f5eb-496e-9e17-6453f426e910",
   "metadata": {
    "tags": []
   },
   "outputs": [],
   "source": [
    "import os\n",
    "import intake_esgf\n",
    "\n",
    "# Run this on the DKRZ node in Germany, using the ESGF1 index node at LLNL\n",
    "os.environ[\"ROOK_URL\"] = \"http://rook.dkrz.de/wps\"\n",
    "intake_esgf.conf.set(indices={\"anl-dev\": False,\n",
    "                               \"ornl-dev\": False,\n",
    "                               \"esgf-node.llnl.gov\": True})\n",
    "\n",
    "import rooki.operators as ops\n",
    "import matplotlib.pyplot as plt\n",
    "import matplotlib.colors as mcolors\n",
    "import cartopy.crs as ccrs\n",
    "import cartopy.feature as cfeature\n",
    "\n",
    "import intake_esgf\n",
    "from intake_esgf import ESGFCatalog\n",
    "from rooki import rooki\n",
    "from matplotlib.gridspec import GridSpec\n",
    "from mpl_toolkits.axes_grid1.inset_locator import inset_axes\n"
   ]
  },
  {
   "cell_type": "markdown",
   "id": "c2b47b1d-db2d-4074-8c92-bb71fa0459a7",
   "metadata": {
    "tags": []
   },
   "source": [
    "## Example 1: Regrid two CMIP6 models onto the same grid"
   ]
  },
  {
   "cell_type": "markdown",
   "id": "cc1d512a-68d3-43cf-aac7-6ca233d9ef73",
   "metadata": {},
   "source": [
    "In this example, we want to compare the historical precipitation output between two CMIP models, CESM2 and CanESM5. Here will will look at the annual mean precipitation for 2010. "
   ]
  },
  {
   "cell_type": "markdown",
   "id": "46f5fba3-7410-465c-abdf-4e338855284c",
   "metadata": {},
   "source": [
    "### Access the desired datasets using intake-esgf and rooki"
   ]
  },
  {
   "cell_type": "markdown",
   "id": "c5f4dc65-0dff-4023-880c-f511cbc58666",
   "metadata": {
    "tags": []
   },
   "source": [
    "The function and workflow to read in CMPI6 data using `intake-esgf` and `rooki` in the next few cells are adapted from [intake-esgf-with-rooki.ipynb](https://github.com/ProjectPythia/esgf-cookbook/blob/cf69015a464b68ee28cfdd4a27cee4e9d6ca2ca9/notebooks/use-intake-esgf-with-rooki.ipynb). Essentially, we use `intake-esgf` to find the dataset IDs we want and then subset and average them using `rooki`."
   ]
  },
  {
   "cell_type": "code",
   "execution_count": null,
   "id": "d053a676-2a27-4be0-93c0-eafb9671c0bc",
   "metadata": {
    "tags": []
   },
   "outputs": [],
   "source": [
    "def separate_dataset_id(id_list):\n",
    "    rooki_id = id_list[0]\n",
    "    rooki_id = rooki_id.split(\"|\")[0]\n",
    "    #rooki_id = f\"css03_data.{rooki_id}\"  # <-- just something you have to know for now :(\n",
    "    return rooki_id\n"
   ]
  },
  {
   "cell_type": "code",
   "execution_count": null,
   "id": "095db615-275a-4dbc-8467-833fd7992aed",
   "metadata": {
    "tags": []
   },
   "outputs": [],
   "source": [
    "cat = ESGFCatalog()\n",
    "cat.search(\n",
    "        activity_id='CMIP',\n",
    "        experiment_id=[\"historical\",],\n",
    "        variable_id=[\"pr\"],\n",
    "        member_id='r1i1p1f1',\n",
    "        grid_label='gn',\n",
    "        table_id=\"Amon\",\n",
    "        source_id = [ \"CESM2\", \"CanESM5\"]\n",
    "    )\n",
    "\n",
    "dsets = [separate_dataset_id(dataset) for dataset in list(cat.df.id.values)]\n",
    "dsets\n"
   ]
  },
  {
   "cell_type": "markdown",
   "id": "777f6bc4-f3a8-4110-bc2a-82cbf227ec4e",
   "metadata": {},
   "source": [
    "Subset the data to get the precipitation variable for 2010 and then average by time:"
   ]
  },
  {
   "cell_type": "code",
   "execution_count": null,
   "id": "bf653879-96b5-48e0-be9b-0f0cc08152e2",
   "metadata": {
    "tags": []
   },
   "outputs": [],
   "source": [
    "dset_list = [[]]*len(dsets)\n",
    "\n",
    "for i, dset_id in enumerate(dsets):\n",
    "    wf = ops.AverageByTime(\n",
    "        ops.Subset(\n",
    "            ops.Input('pr', [dset_id]),\n",
    "            time='2010/2010'\n",
    "        )\n",
    "    )\n",
    "\n",
    "    resp = wf.orchestrate()\n",
    "\n",
    "    # if it worked, add the dataset to our list\n",
    "    if resp.ok:\n",
    "        dset_list[i] = resp.datasets()[0]\n",
    "        \n",
    "    # if it failed, tell us why\n",
    "    else:\n",
    "        print(resp.status)\n"
   ]
  },
  {
   "cell_type": "markdown",
   "id": "e040d078-3981-4246-a10b-c50cf104d8ed",
   "metadata": {},
   "source": [
    "Print the dataset list to get an overview of the metadata structure:"
   ]
  },
  {
   "cell_type": "code",
   "execution_count": null,
   "id": "b2ed096a-2cfc-4e51-9b2a-43b9ee4f103e",
   "metadata": {
    "tags": []
   },
   "outputs": [],
   "source": [
    "print(dset_list)"
   ]
  },
  {
   "cell_type": "markdown",
   "id": "776f84fd-e329-42e8-bab4-54253636aefc",
   "metadata": {},
   "source": [
    "### Compare the precipitation data between models"
   ]
  },
  {
   "cell_type": "markdown",
   "id": "ee469ea1-e402-4e55-b709-0de01e7875b3",
   "metadata": {},
   "source": [
    "First, let's quickly plot the 2010 annual mean precipitation for each model to see what we're working with. Since precipitation values vary greatly in magnitude, using a log-normalized colormap makes the data easier to visualize. "
   ]
  },
  {
   "cell_type": "code",
   "execution_count": null,
   "id": "e49b55e3-1970-4410-8557-9328f31853fb",
   "metadata": {
    "tags": []
   },
   "outputs": [],
   "source": [
    "for dset in dset_list:\n",
    "    dset.pr.plot(norm=mcolors.LogNorm())\n",
    "    plt.show()"
   ]
  },
  {
   "cell_type": "markdown",
   "id": "6cb2aca3-16b4-4bc3-986b-3b1c3e3b4c51",
   "metadata": {
    "jp-MarkdownHeadingCollapsed": true,
    "tags": []
   },
   "source": [
    "Uncomment and run the following cell. If we try to take the difference outright, it fails! "
   ]
  },
  {
   "cell_type": "code",
   "execution_count": null,
   "id": "4276c97e-d798-42b7-846b-98f6460ce897",
   "metadata": {
    "tags": []
   },
   "outputs": [],
   "source": [
    "# pr_diff = dset_list[0].pr - dset_list[1].pr"
   ]
  },
  {
   "cell_type": "markdown",
   "id": "5c7745fe-2ddd-4232-ad1c-c76601909db7",
   "metadata": {
    "tags": []
   },
   "source": [
    "The models have different grids so we can't directly subtract the data. We can use the `grid` attribute to get information on which grid each uses."
   ]
  },
  {
   "cell_type": "code",
   "execution_count": null,
   "id": "11beadd3-beef-4337-a6cf-1fdd1d657ddf",
   "metadata": {
    "tags": []
   },
   "outputs": [],
   "source": [
    "print(dset_list[0].grid)\n",
    "print(dset_list[1].grid)"
   ]
  },
  {
   "cell_type": "markdown",
   "id": "4947c0a2-e796-4a57-aaaf-d4ba07fb26a6",
   "metadata": {},
   "source": [
    "### Regrid the models onto the same grid with Rooki"
   ]
  },
  {
   "cell_type": "markdown",
   "id": "4823272f-614b-437c-8331-95c24c267b47",
   "metadata": {
    "tags": []
   },
   "source": [
    "Look at the documentation on the `regrid` operator to see the available grid types and regrid methods:"
   ]
  },
  {
   "cell_type": "code",
   "execution_count": null,
   "id": "423e4302-6aa6-42e7-9686-d99c1b8cd3af",
   "metadata": {
    "tags": []
   },
   "outputs": [],
   "source": [
    "rooki.regrid?"
   ]
  },
  {
   "cell_type": "markdown",
   "id": "8f6d5022-7973-4133-b321-5b4804f5eb9b",
   "metadata": {
    "tags": []
   },
   "source": [
    "Here we'll do the same process as before to read in and subset the datasets with rooki, but now we **regrid using `ops.Regrid` before averaging over time**. In this example, we use `method=nearest_s2d` to regrid each model onto the target grid using a nearest neighbors method. The target grid is a 1.25° grid, specified by `grid='1pt25deg'`.\n"
   ]
  },
  {
   "cell_type": "code",
   "execution_count": null,
   "id": "4993b311-f18b-4d79-8902-a6040aff3271",
   "metadata": {
    "tags": []
   },
   "outputs": [],
   "source": [
    "rg_list = [[]]*len(dsets)\n",
    "\n",
    "for i, dset_id in enumerate(dsets):\n",
    "    wf = ops.AverageByTime(\n",
    "        ops.Regrid(\n",
    "            ops.Subset(\n",
    "                ops.Input('pr', [dset_id]),\n",
    "                time='2010/2010'\n",
    "            ),\n",
    "            method='nearest_s2d',\n",
    "            grid='1pt25deg'\n",
    "        )\n",
    "    )\n",
    "\n",
    "\n",
    "    resp = wf.orchestrate()\n",
    "    \n",
    "    # if it worked, add the regridded dataset to our list\n",
    "    if resp.ok:\n",
    "        rg_list[i] = resp.datasets()[0]\n",
    "        \n",
    "    # if it failed, tell us why\n",
    "    else:\n",
    "        print(resp.status)\n",
    "        "
   ]
  },
  {
   "cell_type": "markdown",
   "id": "dfb8efaf-a4ab-4709-b1eb-a38c6f4bade2",
   "metadata": {},
   "source": [
    "Print the list of regridded datasets to get an overview of the metadata structure. Note how `lat` and `lon` are now the same and each dataset has additional attributes, including `grid_original` and `regrid_operation`, which all keep track of the regridding operations we just completed."
   ]
  },
  {
   "cell_type": "code",
   "execution_count": null,
   "id": "e38e4a39-0465-4ed8-8a5c-6bdcd61d77c1",
   "metadata": {
    "tags": []
   },
   "outputs": [],
   "source": [
    "print(rg_list)"
   ]
  },
  {
   "cell_type": "markdown",
   "id": "d048801f-fb36-46b2-84af-f1b61768727c",
   "metadata": {},
   "source": [
    "Now they are on the same grid!"
   ]
  },
  {
   "cell_type": "code",
   "execution_count": null,
   "id": "59b6fefa-90e7-49c7-b816-27351a0f51f4",
   "metadata": {
    "tags": []
   },
   "outputs": [],
   "source": [
    "print(rg_list[0].grid)\n",
    "print(rg_list[1].grid)"
   ]
  },
  {
   "cell_type": "markdown",
   "id": "168c41e8-7ae2-4ee6-9020-94f9de00500d",
   "metadata": {},
   "source": [
    "### Quick plot the before and after for each model\n",
    "The plots largely look the same, as they should - with the nearest neighbors method, we are just shifting the precipitation data onto a different grid without averaging between grid cells."
   ]
  },
  {
   "cell_type": "code",
   "execution_count": null,
   "id": "a9d5213f-65a1-415f-b3fe-6860d70fd14d",
   "metadata": {
    "tags": []
   },
   "outputs": [],
   "source": [
    "print(dset_list[0].source_id)\n",
    "for ds in [dset_list[0], rg_list[0]]:\n",
    "    ds.pr.plot(norm=mcolors.LogNorm())\n",
    "    plt.show()\n"
   ]
  },
  {
   "cell_type": "code",
   "execution_count": null,
   "id": "0fabcf8b-c9e2-40c4-b7e1-ce7de3809d29",
   "metadata": {
    "tags": []
   },
   "outputs": [],
   "source": [
    "print(dset_list[1].source_id)\n",
    "for ds in [dset_list[1], rg_list[1]]:\n",
    "    ds.pr.plot(norm=mcolors.LogNorm())\n",
    "    plt.show()\n"
   ]
  },
  {
   "cell_type": "markdown",
   "id": "36031d82-c46f-4da5-8cbb-82067ade465b",
   "metadata": {},
   "source": [
    "#### Take the difference between precipitation datasets and plot it\n",
    "Now that both models are on the same grid, we can subtract the precipitation datasets and plot the difference!"
   ]
  },
  {
   "cell_type": "code",
   "execution_count": null,
   "id": "4f781e26-0c43-45e9-be89-31d3575f4c99",
   "metadata": {
    "tags": []
   },
   "outputs": [],
   "source": [
    "pr_diff = rg_list[0] - rg_list[1]\n",
    "\n",
    "pr_diff.pr.plot(cmap=\"bwr\")\n",
    "plt.show()\n"
   ]
  },
  {
   "cell_type": "markdown",
   "id": "e1fc1957-c334-4431-9e0a-15715106b5d6",
   "metadata": {},
   "source": [
    "### Plot everything together\n",
    "Plot the regridded precipitation data as well as the difference between models on the same figure. We can use `Cartopy` to make it pretty. With `GridSpec`, we can also split up the figure and organize it to use the same colorbar for more than one panel."
   ]
  },
  {
   "cell_type": "code",
   "execution_count": null,
   "id": "86ab0c4a-ce76-48ab-843d-e79333bdd58c",
   "metadata": {
    "tags": []
   },
   "outputs": [],
   "source": [
    "# set up figure\n",
    "fig = plt.figure(figsize=(6, 8))\n",
    "gs = GridSpec(3, 2, width_ratios=[1, 0.1], hspace=0.2)\n",
    "\n",
    "# specify the projection\n",
    "proj = ccrs.Mollweide()\n",
    "\n",
    "# set up plots for each model\n",
    "axpr_1 = plt.subplot(gs[0, 0], projection=proj)\n",
    "axpr_2 = plt.subplot(gs[1, 0], projection=proj)\n",
    "axdiff = plt.subplot(gs[2, 0], projection=proj)\n",
    "\n",
    "# axes where the colorbar will go \n",
    "axcb_pr = plt.subplot(gs[:2, 1]) \n",
    "axcb_diff = plt.subplot(gs[2, 1])\n",
    "axcb_pr.axis(\"off\")\n",
    "axcb_diff.axis(\"off\")\n",
    "\n",
    "# plot the precipitation for both models\n",
    "for i, ax in enumerate([axpr_1, axpr_2]):\n",
    "    ds_rg = rg_list[i]\n",
    "    pcm = ax.pcolormesh(ds_rg.lon, ds_rg.lat, ds_rg.pr.isel(time=0), norm=mcolors.LogNorm(vmin=1e-7, vmax=3e-4),\n",
    "                         transform=ccrs.PlateCarree()\n",
    "                       )\n",
    "    ax.set_title(ds_rg.parent_source_id)\n",
    "    ax.add_feature(cfeature.COASTLINE)\n",
    "    \n",
    "# now plot the difference\n",
    "pcmd = axdiff.pcolormesh(pr_diff.lon, pr_diff.lat, pr_diff.pr.isel(time=0), cmap=\"bwr\", vmin=-3e-4, vmax=3e-4,\n",
    "                         transform=ccrs.PlateCarree()\n",
    "                        )\n",
    "axdiff.set_title(\"{a} - {b}\".format(a=rg_list[0].parent_source_id, b=rg_list[1].parent_source_id))\n",
    "axdiff.add_feature(cfeature.COASTLINE)\n",
    "\n",
    "# set the precipitation colorbar\n",
    "axcb_pr_ins = inset_axes(axcb_pr, width=\"50%\", height=\"75%\", loc=\"center\")\n",
    "cbar_pr = plt.colorbar(pcm, cax=axcb_pr_ins, orientation=\"vertical\", extend=\"both\")\n",
    "cbar_pr.set_label(\"{n} ({u})\".format(n=rg_list[0].pr.long_name, u=rg_list[0].pr.units))\n",
    "\n",
    "# set the difference colorbar\n",
    "axcb_diff_ins = inset_axes(axcb_diff, width=\"50%\", height=\"100%\", loc=\"center\")\n",
    "cbar_diff = plt.colorbar(pcmd, cax=axcb_diff_ins, orientation=\"vertical\", extend=\"both\")\n",
    "cbar_diff.set_label(\"Difference ({u})\".format(u=pr_diff.pr.units))\n",
    "\n",
    "plt.show()\n"
   ]
  },
  {
   "cell_type": "markdown",
   "id": "a77d6b7b-5729-4ba3-9e72-6f960dbe3253",
   "metadata": {
    "tags": []
   },
   "source": [
    "## Example 2: Coarsen the output for one model"
   ]
  },
  {
   "cell_type": "markdown",
   "id": "919dd269-6a7a-48d9-a477-f1e76ed48d11",
   "metadata": {},
   "source": [
    "We can also use `Rooki` to regrid the data from one model onto a coarser grid. In this case, it may make more sense to use a conservative regridding method, which will conserve the physical fluxes between grid cells, rather than the nearest neighbors method we used in Example 1. "
   ]
  },
  {
   "cell_type": "markdown",
   "id": "d32f8ab0-05ef-41a6-a599-f4a289103c2e",
   "metadata": {},
   "source": [
    "### Get the data using intake-esgf and Rooki again"
   ]
  },
  {
   "cell_type": "markdown",
   "id": "81cdf527-cec0-4353-98d7-29cc3effa014",
   "metadata": {},
   "source": [
    "In this example, we'll look at the annual mean near-surface air temperature for CESM2 in 2010. "
   ]
  },
  {
   "cell_type": "code",
   "execution_count": null,
   "id": "d64f5c8d-6355-4225-b5c8-8f2c344fa241",
   "metadata": {
    "tags": []
   },
   "outputs": [],
   "source": [
    "cat = ESGFCatalog()\n",
    "cat.search(\n",
    "        activity_id='CMIP',\n",
    "        experiment_id=[\"historical\",],\n",
    "        variable_id=[\"tas\"],\n",
    "        member_id='r1i1p1f1',\n",
    "        grid_label='gn',\n",
    "        table_id=\"Amon\",\n",
    "        source_id = [ \"CESM2\"]\n",
    "    )\n",
    "\n",
    "dsets = [separate_dataset_id(dataset) for dataset in list(cat.df.id.values)]\n",
    "dsets\n"
   ]
  },
  {
   "cell_type": "markdown",
   "id": "a647dc7d-e107-49ef-87de-08dbf9024cd2",
   "metadata": {},
   "source": [
    "First, get the dataset with the original grid:"
   ]
  },
  {
   "cell_type": "code",
   "execution_count": null,
   "id": "9c70d292-6e0e-43dd-b64e-5b143e38590e",
   "metadata": {
    "tags": []
   },
   "outputs": [],
   "source": [
    "wf = ops.AverageByTime(\n",
    "    ops.Subset(\n",
    "        ops.Input('tas', [dsets[0]]),\n",
    "        time='2010/2010'\n",
    "    )\n",
    ")\n",
    "\n",
    "resp = wf.orchestrate()\n",
    "\n",
    "if resp.ok:\n",
    "    ds_og = resp.datasets()[0]\n",
    "else:\n",
    "    print(resp.status)\n"
   ]
  },
  {
   "cell_type": "markdown",
   "id": "138de51a-727e-4f47-8876-eccbfc6d74bd",
   "metadata": {},
   "source": [
    "Use the `.grid` attribute to get information on the native grid:"
   ]
  },
  {
   "cell_type": "code",
   "execution_count": null,
   "id": "b43c0357-ef9e-469d-b2e7-1635d0387ee5",
   "metadata": {
    "tags": []
   },
   "outputs": [],
   "source": [
    "ds_og.grid"
   ]
  },
  {
   "cell_type": "markdown",
   "id": "a52f11e3-a17f-4a74-849e-a4219de6a2c9",
   "metadata": {},
   "source": [
    "The native grid is 0.9°x1.25°, so let's try coarsening to a 1.25°x1.25° grid using the conservative method:"
   ]
  },
  {
   "cell_type": "code",
   "execution_count": null,
   "id": "710606ac-1c41-4b27-b2c4-2ae4957357ea",
   "metadata": {
    "tags": []
   },
   "outputs": [],
   "source": [
    "wf = ops.AverageByTime(\n",
    "    ops.Regrid(\n",
    "        ops.Subset(\n",
    "            ops.Input('tas', [dsets[0]]),\n",
    "            time='2010/2010'\n",
    "        ),\n",
    "        method='conservative',\n",
    "        grid='1pt25deg'\n",
    "    )\n",
    ")\n",
    "\n",
    "resp = wf.orchestrate()\n",
    "\n",
    "if resp.ok:\n",
    "    ds_125 = resp.datasets()[0]\n",
    "else:\n",
    "    print(resp.status)\n",
    "    "
   ]
  },
  {
   "cell_type": "code",
   "execution_count": null,
   "id": "f51dd55a-a419-4a24-bc2f-4bdaeb435318",
   "metadata": {
    "tags": []
   },
   "outputs": [],
   "source": [
    "ds_125.grid"
   ]
  },
  {
   "cell_type": "markdown",
   "id": "a8556572-54a6-42b0-94d8-cc562d40ccd3",
   "metadata": {},
   "source": [
    "We can also make it even coarser by regridding to a 2.5°x2.5° grid:"
   ]
  },
  {
   "cell_type": "code",
   "execution_count": null,
   "id": "71a84338-90cf-49ec-b120-8f071213cf3e",
   "metadata": {
    "tags": []
   },
   "outputs": [],
   "source": [
    "wf = ops.AverageByTime(\n",
    "    ops.Regrid(\n",
    "        ops.Subset(\n",
    "            ops.Input('tas', [dsets[0]]),\n",
    "            time='2010/2010'\n",
    "        ),\n",
    "        method='conservative',\n",
    "        grid='2pt5deg'\n",
    "    )\n",
    ")\n",
    "\n",
    "resp = wf.orchestrate()\n",
    "\n",
    "if resp.ok:\n",
    "    ds_25 = resp.datasets()[0]\n",
    "else:\n",
    "    print(resp.status)\n",
    "    "
   ]
  },
  {
   "cell_type": "code",
   "execution_count": null,
   "id": "412c50c9-0a30-4f28-8c97-c8a3d957de51",
   "metadata": {
    "tags": []
   },
   "outputs": [],
   "source": [
    "ds_25.grid"
   ]
  },
  {
   "cell_type": "markdown",
   "id": "087503d7-e4ac-42f8-82a6-770a92795780",
   "metadata": {},
   "source": [
    "### Plot each dataset to look at the coarsened grids"
   ]
  },
  {
   "cell_type": "markdown",
   "id": "020b10a4-95ff-4ecf-a203-32db9f3beaf9",
   "metadata": {},
   "source": [
    "Make a quick plot first:"
   ]
  },
  {
   "cell_type": "code",
   "execution_count": null,
   "id": "96f1af51-6836-436f-a09f-1d6375614f98",
   "metadata": {
    "tags": []
   },
   "outputs": [],
   "source": [
    "for ds in [ds_og, ds_125, ds_25]:\n",
    "    ds[\"tas\"].plot()\n",
    "    plt.show()\n",
    "    "
   ]
  },
  {
   "cell_type": "markdown",
   "id": "919dc7a1-ad2a-4291-aa90-c2d622f1d433",
   "metadata": {},
   "source": [
    "### Plot the coarsened datsets together using Cartopy"
   ]
  },
  {
   "cell_type": "markdown",
   "id": "e4a00e56-4b5c-47da-ae9c-ae4b1ce0686d",
   "metadata": {
    "tags": []
   },
   "source": [
    "Now let's zoom in on a smaller region, the continental US, to get a clear view of the difference in grid resolution. Here we can also decrease the colorbar limits to better see how the variable `tas` varies within the smaller region."
   ]
  },
  {
   "cell_type": "code",
   "execution_count": null,
   "id": "0679c3e5-f2bc-4e50-8b4d-f0cefa54d65a",
   "metadata": {
    "tags": []
   },
   "outputs": [],
   "source": [
    "# set up the figure\n",
    "fig = plt.figure(figsize=(6, 8))\n",
    "gs = GridSpec(3, 2, width_ratios=[1, 0.1], height_ratios=[1, 1, 1], hspace=0.3, wspace=0.2)\n",
    "\n",
    "# specify the projection\n",
    "proj = ccrs.PlateCarree()\n",
    "\n",
    "# set up plot axes\n",
    "ax1 = plt.subplot(gs[0, 0], projection=proj)\n",
    "ax2 = plt.subplot(gs[1, 0], projection=proj)\n",
    "ax3 = plt.subplot(gs[2, 0], projection=proj)\n",
    "axes_list = [ax1, ax2, ax3]\n",
    "\n",
    "# set up colorbar axis\n",
    "axcb = plt.subplot(gs[:, 1])\n",
    "\n",
    "# loop through each dataset and its corresponding axis\n",
    "for i, dset in enumerate([ds_og, ds_125, ds_25]):\n",
    "    plot_ds = dset.tas.isel(time=0)\n",
    "    ax = axes_list[i]\n",
    "    pcm = ax.pcolormesh(plot_ds.lon, plot_ds.lat, plot_ds, vmin=270, vmax=302.5, transform=proj)\n",
    "    \n",
    "    # add borders and coastlines\n",
    "    ax.add_feature(cfeature.BORDERS)\n",
    "    ax.coastlines()\n",
    "    \n",
    "    # limit to CONUS for this example\n",
    "    ax.set_xlim(-130, -60)\n",
    "    ax.set_ylim(22, 52)\n",
    "    \n",
    "    # add grid labels on bottom & left only\n",
    "    gl = ax.gridlines(color=\"None\", draw_labels=True)\n",
    "    gl.top_labels = False\n",
    "    gl.right_labels = False\n",
    "    \n",
    "    # label with the regrid type; if it fails, that means it hasn't been regridded\n",
    "    # (so label with the grid attribute instead)\n",
    "    try:\n",
    "        ax.set_title(dset.regrid_operation)\n",
    "    except:\n",
    "        ax.set_title(dset.grid)\n",
    "        \n",
    "# use the same colorbar for all plots\n",
    "axcb.axis(\"off\")\n",
    "axcb_ins = inset_axes(axcb, width=\"50%\", height=\"75%\", loc=\"center\")\n",
    "cbar = plt.colorbar(pcm, cax=axcb_ins, orientation=\"vertical\", extend=\"both\")\n",
    "cbar.set_label(\"{n} ({u})\".format(n=plot_ds.long_name, u=plot_ds.units))\n",
    "        \n",
    "plt.show()\n"
   ]
  },
  {
   "cell_type": "markdown",
   "id": "e57aee30-caff-4916-bb95-efa00ff15ba4",
   "metadata": {},
   "source": [
    "---"
   ]
  },
  {
   "cell_type": "markdown",
   "id": "9f883994-e2f8-4ce9-8ca2-56fedb2e1a58",
   "metadata": {},
   "source": [
    "## Summary\n",
    "\n",
    "`Rooki` offers a quick and easy way to regrid CMIP model data that can be located using `intake-esgf`. `Cartopy` lets us easily customize the plot to neatly display the geospatial data. "
   ]
  },
  {
   "cell_type": "markdown",
   "id": "6c9caac9-3de5-4842-90c5-e4de995c06ef",
   "metadata": {},
   "source": [
    "## Resources and references\n",
    "* [Regridding overview from NCAR](https://climatedataguide.ucar.edu/climate-tools/regridding-overview), including descriptions of various regridding methods\n",
    "* [Rooki regridding example notebook](https://github.com/roocs/rooki/blob/master/notebooks/demo/demo-rooki-regrid-cmip6.ipynb)\n",
    "* [Rooki documentation](https://rooki.readthedocs.io/en/latest/)\n",
    "* [Cartopy logo image source](https://scitools.org.uk/cartopy/docs/v0.16/gallery/logo.html)\n",
    "* [Rooki logo image source](https://rooki.readthedocs.io/en/latest/#)"
   ]
  }
 ],
 "metadata": {
  "kernelspec": {
   "display_name": "Python 3 (ipykernel)",
   "language": "python",
   "name": "python3"
  },
  "language_info": {
   "codemirror_mode": {
    "name": "ipython",
    "version": 3
   },
   "file_extension": ".py",
   "mimetype": "text/x-python",
   "name": "python",
   "nbconvert_exporter": "python",
   "pygments_lexer": "ipython3",
   "version": "3.10.16"
  }
 },
 "nbformat": 4,
 "nbformat_minor": 5
}
