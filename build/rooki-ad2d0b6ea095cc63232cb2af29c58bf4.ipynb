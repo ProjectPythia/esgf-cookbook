{
 "cells": [
  {
   "cell_type": "markdown",
   "id": "931a4b84-bb67-44e4-aa91-30f3d8bcc529",
   "metadata": {
    "tags": []
   },
   "source": [
    "# Compute Demo: Use Rooki to access CMIP6 data"
   ]
  },
  {
   "cell_type": "markdown",
   "id": "81f6c01b-1e08-463d-90d5-b9e7be5a61ac",
   "metadata": {
    "tags": []
   },
   "source": [
    "## Overview\n",
    "\n",
    "[Rooki](https://github.com/roocs/rooki) is a Python client to interact with [Rook](https://github.com/roocs/rook) data subsetting service for climate model data. This service is used in the backend by the [European Copernicus Climate Data Store](https://cds.climate.copernicus.eu) to access the CMIP6 data pool. The Rook service is deployed for load-balancing at IPSL (Paris) and DKRZ (Hamburg). The CMIP6 data pool is shared with ESGF. The provided CMIP6 subset for Copernicus is synchronized at both sites. \n",
    "\n",
    "*Rook* provides operators for *subsetting*, *averaging* and *regridding* to retrieve a subset of the CMIP6 data pool. These operators are implemented by the [clisops](https://github.com/roocs/clisops) Python libray and are based on [xarray](https://pypi.org/project/xarray/). The *clisops* library is developed by Ouranos (Canada), CEDA (UK) and DKRZ (Germany). \n",
    "\n",
    "The operators can be called remotly using the [OGC Web Processing Service](https://ogcapi.ogc.org/processes/) (WPS) standard.\n",
    "\n",
    "![rook 4 cds](https://github.com/atmodatcode/tgif_copernicus/raw/main/media/rook.png)\n",
    "\n",
    "**ROOK**: **R**emote **O**perations **O**n **K**limadaten\n",
    "\n",
    "* Rook: https://github.com/roocs/rook\n",
    "* Rooki: https://github.com/roocs/rooki\n",
    "* Clisops: https://github.com/roocs/clisops\n",
    "* Rook Presentation: https://github.com/cehbrecht/talk-rook-status-kickoff-meeting-2022/blob/main/Rook_C3S2_380_2022-02-11.pdf"
   ]
  },
  {
   "cell_type": "markdown",
   "id": "31d3693d-4e01-4982-b1d0-dffcd2a13157",
   "metadata": {
    "tags": []
   },
   "source": [
    "## Prerequisites\n",
    "\n",
    "| Concepts | Importance | Notes |\n",
    "| --- | --- | --- |\n",
    "| [Intro to Xarray](https://foundations.projectpythia.org/core/xarray/xarray-intro.html) | Necessary | |\n",
    "| [Understanding of NetCDF](https://foundations.projectpythia.org/core/data-formats/netcdf-cf.html) | Helpful | Familiarity with metadata structure |\n",
    "| [Knowing OGC services](https://ogcapi.ogc.org/processes/) | Helpful | Understanding of the service interfaces |\n",
    "\n",
    "\n",
    "- **Time to learn**: 15 minutes"
   ]
  },
  {
   "cell_type": "markdown",
   "id": "288086a4",
   "metadata": {},
   "source": [
    "## Init Rooki"
   ]
  },
  {
   "cell_type": "code",
   "execution_count": null,
   "id": "a2339b90",
   "metadata": {},
   "outputs": [],
   "source": [
    "import os\n",
    "\n",
    "# Configuration line to set the wps node - in this case, use DKRZ in Germany\n",
    "os.environ['ROOK_URL'] = 'http://rook.dkrz.de/wps'\n",
    "\n",
    "from rooki import rooki"
   ]
  },
  {
   "cell_type": "markdown",
   "id": "d6ed87c2",
   "metadata": {},
   "source": [
    "## Retrieve subset of CMIP6 data\n",
    "\n",
    "The CMIP6 dataset is identified by a dataset-id. An intake catalog as available to lookup the available datasets:\n",
    "\n",
    "https://nbviewer.org/github/roocs/rooki/blob/master/notebooks/demo/demo-intake-catalog.ipynb"
   ]
  },
  {
   "cell_type": "code",
   "execution_count": null,
   "id": "6e071b15",
   "metadata": {},
   "outputs": [],
   "source": [
    "resp = rooki.subset(\n",
    "    collection='c3s-cmip6.CMIP.MPI-M.MPI-ESM1-2-HR.historical.r1i1p1f1.Amon.tas.gn.v20190710',\n",
    "    time='2000-01-01/2000-01-31',\n",
    "    area='-30,-40,70,80',\n",
    ")\n",
    "resp.ok"
   ]
  },
  {
   "cell_type": "markdown",
   "id": "f822b3c8",
   "metadata": {},
   "source": [
    "### Open Dataset with xarray"
   ]
  },
  {
   "cell_type": "code",
   "execution_count": null,
   "id": "eacbecbd",
   "metadata": {},
   "outputs": [],
   "source": [
    "ds = resp.datasets()[0]\n",
    "ds"
   ]
  },
  {
   "cell_type": "markdown",
   "id": "46301d38",
   "metadata": {},
   "source": [
    "### Plot CMIP6 Dataset"
   ]
  },
  {
   "cell_type": "code",
   "execution_count": null,
   "id": "05482a1d",
   "metadata": {},
   "outputs": [],
   "source": [
    "ds.tas.isel(time=0).plot()"
   ]
  },
  {
   "cell_type": "markdown",
   "id": "94409343",
   "metadata": {},
   "source": [
    "### Show Provenance\n",
    "\n",
    "A provenance document is generated remotely to document the operation steps.\n",
    "The provenance uses the [W3C PROV](https://www.w3.org/TR/prov-overview/Overview.html) standard."
   ]
  },
  {
   "cell_type": "code",
   "execution_count": null,
   "id": "11af235a",
   "metadata": {
    "tags": []
   },
   "outputs": [],
   "source": [
    "from IPython.display import Image\n",
    "Image(resp.provenance_image())"
   ]
  },
  {
   "cell_type": "markdown",
   "id": "cd84aa80-e69b-4cbb-840f-30c036355e60",
   "metadata": {},
   "source": [
    "## Run workflow with subset and average operator\n",
    "\n",
    "Instead of running a single operator one can also chain several operators in a workflow."
   ]
  },
  {
   "cell_type": "markdown",
   "id": "c6de09be-9e01-4a80-a38b-0a865cffd62d",
   "metadata": {
    "tags": []
   },
   "source": [
    "### Use rooki operators to create a workflow "
   ]
  },
  {
   "cell_type": "code",
   "execution_count": null,
   "id": "e59a5ea7-7682-4080-918c-1bdfba54be08",
   "metadata": {
    "tags": []
   },
   "outputs": [],
   "source": [
    "from rooki import operators as ops"
   ]
  },
  {
   "cell_type": "markdown",
   "id": "8c77562a-16b9-415f-9261-639ff11f92ce",
   "metadata": {
    "tags": []
   },
   "source": [
    "### Define the workflow \n",
    "\n",
    "... internally the workflow tree is a json document"
   ]
  },
  {
   "cell_type": "code",
   "execution_count": null,
   "id": "1ce774a5-62d2-4651-8458-7cf34c4cac67",
   "metadata": {
    "tags": []
   },
   "outputs": [],
   "source": [
    "tas = ops.Input(\n",
    "    'tas', ['c3s-cmip6.CMIP.MPI-M.MPI-ESM1-2-HR.historical.r1i1p1f1.Amon.tas.gn.v20190710']\n",
    ")\n",
    "\n",
    "wf = ops.Subset(\n",
    "    tas, \n",
    "    time=\"2000/2000\",\n",
    "    time_components=\"month:jan,feb,mar\",\n",
    "    area='-30,-40,70,80',  \n",
    ")\n",
    "\n",
    "wf = ops.WeightedAverage(wf)"
   ]
  },
  {
   "cell_type": "markdown",
   "id": "1936ac5e-d18d-4353-8465-4d971ac52139",
   "metadata": {
    "tags": []
   },
   "source": [
    "### Optional: look at the workflow json document\n",
    "\n",
    "... *only* to give some insight"
   ]
  },
  {
   "cell_type": "code",
   "execution_count": null,
   "id": "e2c704a2-29eb-463f-ab40-41c3a5dae859",
   "metadata": {
    "tags": []
   },
   "outputs": [],
   "source": [
    "import json\n",
    "print(json.dumps(wf._tree(), indent=4))"
   ]
  },
  {
   "cell_type": "markdown",
   "id": "582e0978-d2eb-4d9a-bed4-41475f35d3d1",
   "metadata": {
    "tags": []
   },
   "source": [
    "### Submit workflow job "
   ]
  },
  {
   "cell_type": "code",
   "execution_count": null,
   "id": "1835a033-6a9e-4846-96dd-f755950920c4",
   "metadata": {
    "tags": []
   },
   "outputs": [],
   "source": [
    "resp = wf.orchestrate()\n",
    "resp.ok"
   ]
  },
  {
   "cell_type": "markdown",
   "id": "a0d61b51-3d07-45f6-8af1-197a91db0f6b",
   "metadata": {
    "tags": []
   },
   "source": [
    "### Open as xarray dataset"
   ]
  },
  {
   "cell_type": "code",
   "execution_count": null,
   "id": "76d43934-e545-431d-83c4-8954aeddfa44",
   "metadata": {
    "tags": []
   },
   "outputs": [],
   "source": [
    "ds = resp.datasets()[0]\n",
    "ds"
   ]
  },
  {
   "cell_type": "markdown",
   "id": "faafcbc6-9f3d-40b7-b001-43e77aace961",
   "metadata": {
    "tags": []
   },
   "source": [
    "### Plot dataset"
   ]
  },
  {
   "cell_type": "code",
   "execution_count": null,
   "id": "903a4e7e-9512-493f-b3bd-ade6b6b4d68c",
   "metadata": {
    "tags": []
   },
   "outputs": [],
   "source": [
    "ds.tas.plot()"
   ]
  },
  {
   "cell_type": "markdown",
   "id": "299b72a5-5ac5-4b52-a1d6-bfa45cb7aa04",
   "metadata": {
    "tags": []
   },
   "source": [
    "### Show provenance"
   ]
  },
  {
   "cell_type": "code",
   "execution_count": null,
   "id": "2777d062-6c09-41c4-8918-1da03e8db4b4",
   "metadata": {
    "tags": []
   },
   "outputs": [],
   "source": [
    "Image(resp.provenance_image())"
   ]
  },
  {
   "cell_type": "markdown",
   "id": "f3cc1404-0030-4e7c-98bb-498c354301d2",
   "metadata": {
    "tags": []
   },
   "source": [
    "## Summary\n",
    "In this notebook, we used the Rooki Python client to retrieve a subset of a CMIP6 dataset. The operations are executed remotely on a Rook subsetting service (using OGC API and xarray/clisops). The dataset is plotted and a provenance document is shown. We also showed that remote operators can be chained to be executed in a single workflow operation.\n",
    "\n",
    "### What's next?\n",
    "\n",
    "This service is used by the European Copernicus Climate Data Store. \n",
    "\n",
    "We need to figure out how this service can be used in the new ESGF: \n",
    "* where will it be deployed? \n",
    "* how can it be integrated in the ESGF search (STAC catalogs, ...)\n",
    "* ???\n",
    "\n",
    "## Resources and references\n",
    "- [Roocs on GitHub](https://github.com/roocs)\n",
    "- [Copernicus Climate Data Store](https://cds.climate.copernicus.eu/)\n",
    "- [STAC](https://stacspec.org/en)"
   ]
  }
 ],
 "metadata": {
  "kernelspec": {
   "display_name": "Python 3 (ipykernel)",
   "language": "python",
   "name": "python3"
  },
  "language_info": {
   "codemirror_mode": {
    "name": "ipython",
    "version": 3
   },
   "file_extension": ".py",
   "mimetype": "text/x-python",
   "name": "python",
   "nbconvert_exporter": "python",
   "pygments_lexer": "ipython3",
   "version": "3.10.16"
  }
 },
 "nbformat": 4,
 "nbformat_minor": 5
}
