{
 "cells": [
  {
   "cell_type": "markdown",
   "id": "5191269c-944c-4516-9f51-6cdfc704852a",
   "metadata": {},
   "source": [
    "![<image title>](http://link.com/to/image.png \"image alt text\")"
   ]
  },
  {
   "cell_type": "markdown",
   "id": "fa96801d-4d1a-4264-94f9-9bf12a77421a",
   "metadata": {},
   "source": [
    "---"
   ]
  },
  {
   "cell_type": "markdown",
   "id": "545103ee-abac-4da8-af3b-c8877a3d2d6c",
   "metadata": {},
   "source": [
    "# Using intake-esgf with rooki\n",
    "Here we dig into using intake-esgf to search for data, then rooki to do server-side computing!"
   ]
  },
  {
   "cell_type": "markdown",
   "id": "7f90a23b-fd23-4339-924f-d665f1d36472",
   "metadata": {},
   "source": [
    "---"
   ]
  },
  {
   "cell_type": "markdown",
   "id": "d57fa890-a874-4282-bdf2-dfb905678467",
   "metadata": {},
   "source": [
    "## Overview\n",
    "If you have an introductory paragraph, lead with it here! Keep it short and tied to your material, then be sure to continue into the required list of topics below,\n",
    "\n",
    "1. This is a numbered list of the specific topics\n",
    "1. These should map approximately to your main sections of content\n",
    "1. Or each second-level, `##`, header in your notebook\n",
    "1. Keep the size and scope of your notebook in check\n",
    "1. And be sure to let the reader know up front the important concepts they'll be leaving with"
   ]
  },
  {
   "cell_type": "markdown",
   "id": "0b633dab-4c9d-482a-b148-8f9b09102e78",
   "metadata": {},
   "source": [
    "## Prerequisites\n",
    "\n",
    "| Concepts | Importance | Notes |\n",
    "| --- | --- | --- |\n",
    "| [Intro to Cartopy](https://foundations.projectpythia.org/core/cartopy/cartopy.html) | Necessary | |\n",
    "| [Understanding of NetCDF](https://foundations.projectpythia.org/core/data-formats/netcdf-cf.html) | Helpful | Familiarity with metadata structure |\n",
    "| Project management | Helpful | |\n",
    "\n",
    "- **Time to learn**: estimate in minutes. For a rough idea, use 5 mins per subsection, 10 if longer; add these up for a total. Safer to round up and overestimate.\n",
    "- **System requirements**:\n",
    "    - Populate with any system, version, or non-Python software requirements if necessary\n",
    "    - Otherwise use the concepts table above and the Imports section below to describe required packages as necessary\n",
    "    - If no extra requirements, remove the **System requirements** point altogether"
   ]
  },
  {
   "cell_type": "markdown",
   "id": "64a5b6f9-eeee-4726-abdc-686e96dfc3cf",
   "metadata": {},
   "source": [
    "---"
   ]
  },
  {
   "cell_type": "markdown",
   "id": "f7571ba4-43cf-4f61-b74a-a51cdee373aa",
   "metadata": {},
   "source": [
    "## Imports"
   ]
  },
  {
   "cell_type": "code",
   "execution_count": 4,
   "id": "c12d0875-9794-4101-b74f-346148cb36c0",
   "metadata": {
    "tags": []
   },
   "outputs": [],
   "source": [
    "import os\n",
    "\n",
    "from rooki import rooki\n",
    "from intake_esgf import ESGFCatalog\n",
    "import xarray as xr"
   ]
  },
  {
   "cell_type": "code",
   "execution_count": null,
   "id": "d5dfdb4b-af1f-4dba-a696-eaa59aef95a5",
   "metadata": {},
   "outputs": [],
   "source": []
  },
  {
   "cell_type": "code",
   "execution_count": 5,
   "id": "363d5d3b-3da5-45a2-9981-e66969fbb227",
   "metadata": {
    "tags": []
   },
   "outputs": [],
   "source": [
    "def separate_dataset_id(full_dataset):\n",
    "    return full_dataset[0].split(\"|\")[0]"
   ]
  },
  {
   "cell_type": "code",
   "execution_count": 6,
   "id": "044b088b-a9e0-48e9-ab93-a5a107341367",
   "metadata": {
    "tags": []
   },
   "outputs": [
    {
     "data": {
      "application/vnd.jupyter.widget-view+json": {
       "model_id": "ca36d2261499419d8abaf9dc829d1b58",
       "version_major": 2,
       "version_minor": 0
      },
      "text/plain": [
       "   Searching indices:   0%|          |0/2 [       ?index/s]"
      ]
     },
     "metadata": {},
     "output_type": "display_data"
    },
    {
     "data": {
      "text/plain": [
       "['CMIP6.CMIP.NCAR.CESM2.historical.r1i1p1f1.Amon.tas.gn.v20190308',\n",
       " 'CMIP6.CMIP.CMCC.CMCC-ESM2.historical.r1i1p1f1.Amon.tas.gn.v20210114',\n",
       " 'CMIP6.CMIP.NCAR.CESM2-FV2.historical.r1i1p1f1.Amon.tas.gn.v20191120',\n",
       " 'CMIP6.CMIP.CCCma.CanESM5.historical.r1i1p1f1.Amon.tas.gn.v20190429']"
      ]
     },
     "execution_count": 6,
     "metadata": {},
     "output_type": "execute_result"
    }
   ],
   "source": [
    "cat = ESGFCatalog()\n",
    "cat.search(\n",
    "        activity_id='CMIP',\n",
    "        experiment_id=[\"historical\",],\n",
    "        variable_id=[\"tas\"],\n",
    "        member_id='r1i1p1f1',\n",
    "        grid_label='gn',\n",
    "        table_id=\"Amon\",\n",
    "        source_id = [ \"CMCC-ESM2\", \"CanESM5\", \"CESM2\", \"CESM2-FV2\", ]\n",
    "    )\n",
    "\n",
    "dsets = [separate_dataset_id(dataset) for dataset in list(cat.df.id.values)]\n",
    "dsets"
   ]
  },
  {
   "cell_type": "code",
   "execution_count": 7,
   "id": "399583f8-1889-4939-ba74-2cd448befef6",
   "metadata": {
    "tags": []
   },
   "outputs": [],
   "source": [
    "def query_compute_data(dset_id):\n",
    "    resp = rooki.subset(\n",
    "        collection=dset,\n",
    "        time='1900-01-01/2000-01-31',\n",
    "        area='65,0,100,35',\n",
    "    )\n",
    "    \n",
    "    if resp.ok:\n",
    "        ds = resp.datasets()[0]\n",
    "    else:\n",
    "        ds = xr.Dataset()\n",
    "        \n",
    "    return ds\n"
   ]
  },
  {
   "cell_type": "code",
   "execution_count": 15,
   "id": "b9a934cf-cda7-4bc4-8859-a2ce247f7066",
   "metadata": {
    "tags": []
   },
   "outputs": [],
   "source": [
    "from rooki import operators as ops"
   ]
  },
  {
   "cell_type": "code",
   "execution_count": 20,
   "id": "94b2078e-d58b-4a1e-a79f-0011c514a592",
   "metadata": {
    "tags": []
   },
   "outputs": [
    {
     "data": {
      "text/plain": [
       "\u001b[0;31mInit signature:\u001b[0m \u001b[0mops\u001b[0m\u001b[0;34m.\u001b[0m\u001b[0mAverageByTime\u001b[0m\u001b[0;34m(\u001b[0m\u001b[0;34m*\u001b[0m\u001b[0margs\u001b[0m\u001b[0;34m,\u001b[0m \u001b[0;34m**\u001b[0m\u001b[0mkwargs\u001b[0m\u001b[0;34m)\u001b[0m\u001b[0;34m\u001b[0m\u001b[0;34m\u001b[0m\u001b[0m\n",
       "\u001b[0;31mDocstring:\u001b[0m      <no docstring>\n",
       "\u001b[0;31mFile:\u001b[0m           ~/mambaforge/envs/esgf-cookbook-dev/lib/python3.10/site-packages/rooki/operators.py\n",
       "\u001b[0;31mType:\u001b[0m           type\n",
       "\u001b[0;31mSubclasses:\u001b[0m     "
      ]
     },
     "metadata": {},
     "output_type": "display_data"
    }
   ],
   "source": [
    "ops.AverageByTime?"
   ]
  },
  {
   "cell_type": "code",
   "execution_count": 24,
   "id": "6036bdce-2e32-49ae-9a6e-34de5ab9e85c",
   "metadata": {
    "tags": []
   },
   "outputs": [
    {
     "data": {
      "text/plain": [
       "<rooki.operators.Input at 0x17f85f7f0>"
      ]
     },
     "execution_count": 24,
     "metadata": {},
     "output_type": "execute_result"
    }
   ],
   "source": [
    "wf = ops.Input('tas', dsets[0])"
   ]
  },
  {
   "cell_type": "code",
   "execution_count": 35,
   "id": "e756f75d-0c35-4f5b-9d8e-e7c65fd97500",
   "metadata": {
    "tags": []
   },
   "outputs": [
    {
     "data": {
      "text/plain": [
       "\u001b[0;31mInit signature:\u001b[0m \u001b[0mops\u001b[0m\u001b[0;34m.\u001b[0m\u001b[0mAverageByTime\u001b[0m\u001b[0;34m(\u001b[0m\u001b[0;34m*\u001b[0m\u001b[0margs\u001b[0m\u001b[0;34m,\u001b[0m \u001b[0;34m**\u001b[0m\u001b[0mkwargs\u001b[0m\u001b[0;34m)\u001b[0m\u001b[0;34m\u001b[0m\u001b[0;34m\u001b[0m\u001b[0m\n",
       "\u001b[0;31mDocstring:\u001b[0m      <no docstring>\n",
       "\u001b[0;31mSource:\u001b[0m        \n",
       "\u001b[0;32mclass\u001b[0m \u001b[0mAverageByTime\u001b[0m\u001b[0;34m(\u001b[0m\u001b[0mOperator\u001b[0m\u001b[0;34m)\u001b[0m\u001b[0;34m:\u001b[0m\u001b[0;34m\u001b[0m\n",
       "\u001b[0;34m\u001b[0m    \u001b[0mMETHOD\u001b[0m \u001b[0;34m=\u001b[0m \u001b[0;34m\"average_time\"\u001b[0m\u001b[0;34m\u001b[0m\u001b[0;34m\u001b[0m\u001b[0m\n",
       "\u001b[0;31mFile:\u001b[0m           ~/mambaforge/envs/esgf-cookbook-dev/lib/python3.10/site-packages/rooki/operators.py\n",
       "\u001b[0;31mType:\u001b[0m           type\n",
       "\u001b[0;31mSubclasses:\u001b[0m     "
      ]
     },
     "metadata": {},
     "output_type": "display_data"
    }
   ],
   "source": [
    "ops.AverageByTime??"
   ]
  },
  {
   "cell_type": "code",
   "execution_count": 59,
   "id": "38704069-b1ad-474f-99f6-3273554df831",
   "metadata": {
    "tags": []
   },
   "outputs": [],
   "source": [
    "def compute_annual_mean_subset(dset_id):\n",
    "    # Subset by area then time\n",
    "    wf = ops.AverageByTime(\n",
    "        ops.Subset(\n",
    "            ops.Input(\n",
    "                'tas', [dsets[0]]\n",
    "            ),\n",
    "            time='1900-01-01/2000-12-31',\n",
    "            area='65,0,100,35',\n",
    "        ),\n",
    "    freq=\"year\"\n",
    "    )\n",
    "    \n",
    "    resp = wf.orchestrate()\n",
    "    \n",
    "    if resp.ok:\n",
    "        ds = resp.datasets()[0]\n",
    "    else:\n",
    "        ds = xr.Dataset()\n",
    "    return ds"
   ]
  },
  {
   "cell_type": "code",
   "execution_count": 60,
   "id": "a52e7d71-18fd-4bbe-91a7-fa86725ad4de",
   "metadata": {
    "tags": []
   },
   "outputs": [
    {
     "name": "stdout",
     "output_type": "stream",
     "text": [
      "Downloading to /var/folders/bw/c9j8z20x45s2y20vv6528qjc0000gq/T/metalink_tvqe5twj/tas_Amon_CESM2_historical_r1i1p1f1_gn_19000101-20000101_avg-year.nc.\n",
      "Downloading to /var/folders/bw/c9j8z20x45s2y20vv6528qjc0000gq/T/metalink_xtxuxms6/tas_Amon_CESM2_historical_r1i1p1f1_gn_19000101-20000101_avg-year.nc.\n",
      "Downloading to /var/folders/bw/c9j8z20x45s2y20vv6528qjc0000gq/T/metalink_9ntc6sns/tas_Amon_CESM2_historical_r1i1p1f1_gn_19000101-20000101_avg-year.nc.\n",
      "Downloading to /var/folders/bw/c9j8z20x45s2y20vv6528qjc0000gq/T/metalink_7hstq_2a/tas_Amon_CESM2_historical_r1i1p1f1_gn_19000101-20000101_avg-year.nc.\n"
     ]
    }
   ],
   "source": [
    "dset_dict = {}\n",
    "for dset in dsets:\n",
    "    dset_dict[dset] = compute_annual_mean_subset(dset)"
   ]
  },
  {
   "cell_type": "code",
   "execution_count": 30,
   "id": "1b08b0a0-7add-4a50-8e62-9bb88b98cc7c",
   "metadata": {
    "tags": []
   },
   "outputs": [
    {
     "data": {
      "text/plain": [
       "<matplotlib.collections.QuadMesh at 0x17ef97940>"
      ]
     },
     "execution_count": 30,
     "metadata": {},
     "output_type": "execute_result"
    },
    {
     "data": {
      "image/png": "[encoded data removed]",
      "text/plain": [
       "<Figure size 640x480 with 2 Axes>"
      ]
     },
     "metadata": {},
     "output_type": "display_data"
    }
   ],
   "source": [
    "ds.tos.isel(time=0).plot()"
   ]
  },
  {
   "cell_type": "code",
   "execution_count": null,
   "id": "d953c577-720d-46b1-b8c6-040df6455dd1",
   "metadata": {},
   "outputs": [],
   "source": []
  }
 ],
 "metadata": {
  "kernelspec": {
   "display_name": "Python 3 (ipykernel)",
   "language": "python",
   "name": "python3"
  },
  "language_info": {
   "codemirror_mode": {
    "name": "ipython",
    "version": 3
   },
   "file_extension": ".py",
   "mimetype": "text/x-python",
   "name": "python",
   "nbconvert_exporter": "python",
   "pygments_lexer": "ipython3",
   "version": "3.10.14"
  }
 },
 "nbformat": 4,
 "nbformat_minor": 5
}
